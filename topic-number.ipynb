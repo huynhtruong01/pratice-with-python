{
 "cells": [
  {
   "cell_type": "markdown",
   "metadata": {},
   "source": [
    "<h2 style=\"color:goldenrod\">TOPIC NUMBER</h2>"
   ]
  },
  {
   "cell_type": "markdown",
   "metadata": {},
   "source": [
    "### <span style=\"font-weight:bold\">NUMBER-1:</span> Check number is increasing???"
   ]
  },
  {
   "cell_type": "code",
   "execution_count": 27,
   "metadata": {},
   "outputs": [
    {
     "data": {
      "text/plain": [
       "True"
      ]
     },
     "execution_count": 27,
     "metadata": {},
     "output_type": "execute_result"
    }
   ],
   "source": [
    "def isIncreasingNumber(n):\n",
    "    if n <= 0 or n >= 1000000:\n",
    "        return False\n",
    "    if len(str(n)) < 2: \n",
    "        return False\n",
    "    \n",
    "    strNumbers = str(n)\n",
    "    i = 1\n",
    "    while i <= len(strNumbers) - 1:\n",
    "        if int(strNumbers[i-1]) > int(strNumbers[i]): return False\n",
    "        i += 1\n",
    "\n",
    "    return True\n",
    "\n",
    "isIncreasingNumber(12321) # False\n",
    "isIncreasingNumber(0) # False\n",
    "isIncreasingNumber(123456) # True"
   ]
  },
  {
   "cell_type": "markdown",
   "metadata": {},
   "source": [
    "### <span style=\"font-weight:bold\">NUMBER-2:</span> Check number is decreasing???"
   ]
  },
  {
   "cell_type": "code",
   "execution_count": 28,
   "metadata": {},
   "outputs": [
    {
     "data": {
      "text/plain": [
       "True"
      ]
     },
     "execution_count": 28,
     "metadata": {},
     "output_type": "execute_result"
    }
   ],
   "source": [
    "def isDecreasingNumber(n):\n",
    "    if n <= 0 or n >= 1000000:\n",
    "        return False\n",
    "    if len(str(n)) < 2: return False\n",
    "\n",
    "    strNumbers = str(n)\n",
    "    i = 1\n",
    "    while i <= len(strNumbers) - 1:\n",
    "        if int(strNumbers[i-1]) < int(strNumbers[i]):\n",
    "            return False\n",
    "        i += 1\n",
    "    \n",
    "    return True\n",
    "\n",
    "isDecreasingNumber(123)\n",
    "isDecreasingNumber(54321)"
   ]
  },
  {
   "cell_type": "markdown",
   "metadata": {},
   "source": [
    "### <span style=\"font-weight:bold\">NUMBER-3:</span> Check number is increasing by distance???"
   ]
  },
  {
   "cell_type": "code",
   "execution_count": 46,
   "metadata": {},
   "outputs": [
    {
     "data": {
      "text/plain": [
       "False"
      ]
     },
     "execution_count": 46,
     "metadata": {},
     "output_type": "execute_result"
    }
   ],
   "source": [
    "def isIncreasingByDistance(n, x):\n",
    "    if n <= 0 or n >= 1000000:\n",
    "        return False\n",
    "    if x <= 0 or x >= 5:\n",
    "        return False\n",
    "    if len(str(n)) < 2: return False\n",
    "\n",
    "    strNumbers = str(n)\n",
    "    i = 1\n",
    "    while i <= len(strNumbers) - 1:\n",
    "        if (x + int(strNumbers[i - 1])) != int(strNumbers[i]): return False\n",
    "        i += 1\n",
    "\n",
    "    return True\n",
    "\n",
    "isIncreasingByDistance(1234, 1)\n",
    "isIncreasingByDistance(1234, 2)\n",
    "isIncreasingByDistance(135, 1)"
   ]
  },
  {
   "cell_type": "markdown",
   "metadata": {},
   "source": [
    "### <span style=\"font-weight:bold\">NUMBER-4:</span> Check prime???"
   ]
  },
  {
   "cell_type": "code",
   "execution_count": 49,
   "metadata": {},
   "outputs": [
    {
     "data": {
      "text/plain": [
       "True"
      ]
     },
     "execution_count": 49,
     "metadata": {},
     "output_type": "execute_result"
    }
   ],
   "source": [
    "def isPrime(n):\n",
    "    if n <= 0 or n >= 1000000: return False\n",
    "\n",
    "    for numb in range(2, n-1):\n",
    "        if n % numb == 0: return False\n",
    "    return True\n",
    "\n",
    "isPrime(4) # False\n",
    "isPrime(11) # True"
   ]
  },
  {
   "cell_type": "markdown",
   "metadata": {},
   "source": [
    "### <span style=\"font-weight:bold\">NUMBER-5:</span> Check number is perfect square???"
   ]
  },
  {
   "cell_type": "code",
   "execution_count": 54,
   "metadata": {},
   "outputs": [
    {
     "data": {
      "text/plain": [
       "True"
      ]
     },
     "execution_count": 54,
     "metadata": {},
     "output_type": "execute_result"
    }
   ],
   "source": [
    "import math\n",
    "\n",
    "def isPerfectSquare(n):\n",
    "    if n <= 0 or n >= 1000000:\n",
    "        return False\n",
    "\n",
    "    return math.sqrt(n)**2 == n\n",
    "\n",
    "isPerfectSquare(5) # False\n",
    "isPerfectSquare(4) # True\n",
    "isPerfectSquare(100) # True"
   ]
  },
  {
   "cell_type": "markdown",
   "metadata": {},
   "source": [
    "### <span style=\"font-weight:bold\">NUMBER-6:</span> Check number is perfect number???"
   ]
  },
  {
   "cell_type": "code",
   "execution_count": 59,
   "metadata": {},
   "outputs": [
    {
     "data": {
      "text/plain": [
       "True"
      ]
     },
     "execution_count": 59,
     "metadata": {},
     "output_type": "execute_result"
    }
   ],
   "source": [
    "def isPerfectNumber(n):\n",
    "    if n <= 0 or n >= 100000: return False\n",
    "\n",
    "    newNumbers = [numb for numb in range(1, n-1) if n % numb == 0]\n",
    "    return sum(newNumbers) == n\n",
    "    \n",
    "isPerfectNumber(10) # False\n",
    "isPerfectNumber(6) # True"
   ]
  },
  {
   "cell_type": "code",
   "execution_count": null,
   "metadata": {},
   "outputs": [],
   "source": []
  }
 ],
 "metadata": {
  "kernelspec": {
   "display_name": "Python 3.10.8 64-bit",
   "language": "python",
   "name": "python3"
  },
  "language_info": {
   "codemirror_mode": {
    "name": "ipython",
    "version": 3
   },
   "file_extension": ".py",
   "mimetype": "text/x-python",
   "name": "python",
   "nbconvert_exporter": "python",
   "pygments_lexer": "ipython3",
   "version": "3.10.8"
  },
  "orig_nbformat": 4,
  "vscode": {
   "interpreter": {
    "hash": "1f680cd7b21b13c061eda06640355db60d12d8be72732e19620e6eeba52035a6"
   }
  }
 },
 "nbformat": 4,
 "nbformat_minor": 2
}
